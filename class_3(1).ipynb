{
 "cells": [
  {
   "cell_type": "markdown",
   "id": "17db35d5-f90f-48a9-9c52-1f17f6d8bb4f",
   "metadata": {},
   "source": [
    "# reshape:this is a method that helps us to reshape the shape of data"
   ]
  },
  {
   "cell_type": "code",
   "execution_count": 4,
   "id": "6993a667-555b-4e19-83aa-576eddeed4ef",
   "metadata": {},
   "outputs": [],
   "source": [
    "import numpy as np\n",
    "arr=np.array([1,2,3,4])"
   ]
  },
  {
   "cell_type": "code",
   "execution_count": 6,
   "id": "c9588eb0-1596-47fa-9f29-10eaa6fcf4f7",
   "metadata": {},
   "outputs": [
    {
     "data": {
      "text/plain": [
       "(4,)"
      ]
     },
     "execution_count": 6,
     "metadata": {},
     "output_type": "execute_result"
    }
   ],
   "source": [
    "arr.shape"
   ]
  },
  {
   "cell_type": "code",
   "execution_count": 8,
   "id": "853da817-abec-4b81-852e-fb7b83604275",
   "metadata": {},
   "outputs": [
    {
     "data": {
      "text/plain": [
       "1"
      ]
     },
     "execution_count": 8,
     "metadata": {},
     "output_type": "execute_result"
    }
   ],
   "source": [
    "arr.ndim"
   ]
  },
  {
   "cell_type": "code",
   "execution_count": 10,
   "id": "46c530eb-2c8e-46b3-a560-bced9eb6c853",
   "metadata": {},
   "outputs": [],
   "source": [
    "# reshape"
   ]
  },
  {
   "cell_type": "code",
   "execution_count": 14,
   "id": "15fb3619-47e9-4307-97af-8ba02dc1e308",
   "metadata": {},
   "outputs": [],
   "source": [
    "# objectname.reshape(shape)\n",
    "# np.reshape(objectname,shape)"
   ]
  },
  {
   "cell_type": "code",
   "execution_count": 22,
   "id": "d84428ff-37bc-47da-9733-60ee74ae4751",
   "metadata": {},
   "outputs": [
    {
     "data": {
      "text/plain": [
       "array([[1, 2],\n",
       "       [3, 4]])"
      ]
     },
     "execution_count": 22,
     "metadata": {},
     "output_type": "execute_result"
    }
   ],
   "source": [
    "np.reshape(arr,(2,2))"
   ]
  },
  {
   "cell_type": "code",
   "execution_count": 36,
   "id": "833834d3-6ad6-4e2f-ad6e-5ce9657a2130",
   "metadata": {},
   "outputs": [
    {
     "data": {
      "text/plain": [
       "array([[1],\n",
       "       [2],\n",
       "       [3],\n",
       "       [4],\n",
       "       [5],\n",
       "       [6]])"
      ]
     },
     "execution_count": 36,
     "metadata": {},
     "output_type": "execute_result"
    }
   ],
   "source": [
    "arr1=np.array([1,2,3,4,5,6])\n",
    "np.reshape(arr1,(6,1))\n"
   ]
  },
  {
   "cell_type": "code",
   "execution_count": 40,
   "id": "09f89e4d-9a99-44bd-8a2d-22d7b8ad4a35",
   "metadata": {},
   "outputs": [],
   "source": [
    "# 2D to 1D"
   ]
  },
  {
   "cell_type": "code",
   "execution_count": 42,
   "id": "0f4a61a8-f92e-4ce0-84ac-4e1bf557dbe0",
   "metadata": {},
   "outputs": [
    {
     "data": {
      "text/plain": [
       "array([[  1,   2,   3,   4,   5,   6],\n",
       "       [ 23, 454,  32,   4,   2,  23]])"
      ]
     },
     "execution_count": 42,
     "metadata": {},
     "output_type": "execute_result"
    }
   ],
   "source": [
    "arr2=np.array([[1,2,3,4,5,6],[23,454,32,4,2,23]])\n",
    "arr2\n"
   ]
  },
  {
   "cell_type": "code",
   "execution_count": 44,
   "id": "a1b8ca16-8424-4ed1-91df-4eac5a0e74b3",
   "metadata": {},
   "outputs": [
    {
     "data": {
      "text/plain": [
       "2"
      ]
     },
     "execution_count": 44,
     "metadata": {},
     "output_type": "execute_result"
    }
   ],
   "source": [
    "arr2.ndim"
   ]
  },
  {
   "cell_type": "code",
   "execution_count": 48,
   "id": "cb2a4036-d94e-4ed4-b711-11d362b9ece1",
   "metadata": {},
   "outputs": [
    {
     "data": {
      "text/plain": [
       "(2, 6)"
      ]
     },
     "execution_count": 48,
     "metadata": {},
     "output_type": "execute_result"
    }
   ],
   "source": [
    "arr2.shape"
   ]
  },
  {
   "cell_type": "code",
   "execution_count": null,
   "id": "b6720b79-4d43-4948-af9f-2af33c07fed9",
   "metadata": {},
   "outputs": [],
   "source": []
  },
  {
   "cell_type": "code",
   "execution_count": 85,
   "id": "388a00dd-2ae0-4af5-81f3-86de6409f571",
   "metadata": {},
   "outputs": [
    {
     "data": {
      "text/plain": [
       "array([  1,   2,   3,   4,   5,   6,  23, 454,  32,   4,   2,  23])"
      ]
     },
     "execution_count": 85,
     "metadata": {},
     "output_type": "execute_result"
    }
   ],
   "source": [
    "arr2.reshape(12)"
   ]
  },
  {
   "cell_type": "raw",
   "id": "8a7c4228-51f6-42bd-b917-c4d12bcdb6e2",
   "metadata": {},
   "source": []
  },
  {
   "cell_type": "code",
   "execution_count": 106,
   "id": "5644a412-a059-47ce-8cab-fc830139fce2",
   "metadata": {
    "scrolled": true
   },
   "outputs": [
    {
     "data": {
      "text/plain": [
       "array([  1,   2,   3,   4,   5,   6,  23, 454,  32,   4,   2,  23])"
      ]
     },
     "execution_count": 106,
     "metadata": {},
     "output_type": "execute_result"
    }
   ],
   "source": [
    "arr3=np.array([[1,2,3,4,5,6],[23,454,32,4,2,23]])\n",
    "q=np.reshape(arr3,-1)\n",
    "q"
   ]
  },
  {
   "cell_type": "raw",
   "id": "8564d6df-d14f-4036-8346-3da0b5601a12",
   "metadata": {},
   "source": []
  },
  {
   "cell_type": "code",
   "execution_count": null,
   "id": "88660b17-5a15-495f-b9a7-5a23c7b05e0d",
   "metadata": {},
   "outputs": [],
   "source": []
  }
 ],
 "metadata": {
  "kernelspec": {
   "display_name": "Python 3 (ipykernel)",
   "language": "python",
   "name": "python3"
  },
  "language_info": {
   "codemirror_mode": {
    "name": "ipython",
    "version": 3
   },
   "file_extension": ".py",
   "mimetype": "text/x-python",
   "name": "python",
   "nbconvert_exporter": "python",
   "pygments_lexer": "ipython3",
   "version": "3.11.7"
  }
 },
 "nbformat": 4,
 "nbformat_minor": 5
}
