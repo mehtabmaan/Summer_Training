{
 "cells": [
  {
   "cell_type": "code",
   "execution_count": 9,
   "id": "f763b31d-8297-4dec-9038-0006da928485",
   "metadata": {},
   "outputs": [
    {
     "data": {
      "text/plain": [
       "array([1, 2, 3, 4, 5, 6, 7, 8])"
      ]
     },
     "execution_count": 9,
     "metadata": {},
     "output_type": "execute_result"
    }
   ],
   "source": [
    "import numpy as np\n",
    "arr=np.array([1,2,3,4,5,6,7,8])\n",
    "arr"
   ]
  },
  {
   "cell_type": "markdown",
   "id": "0d1eeaef-a0a6-49b4-9da8-cc44e76ae047",
   "metadata": {},
   "source": [
    "# 1D to 2d using -1"
   ]
  },
  {
   "cell_type": "code",
   "execution_count": 12,
   "id": "9419f044-b44d-4b7b-8d6f-39ed7552f328",
   "metadata": {},
   "outputs": [
    {
     "data": {
      "text/plain": [
       "array([[1, 2, 3, 4],\n",
       "       [5, 6, 7, 8]])"
      ]
     },
     "execution_count": 12,
     "metadata": {},
     "output_type": "execute_result"
    }
   ],
   "source": [
    "np.reshape(arr,(2,-1))"
   ]
  },
  {
   "cell_type": "markdown",
   "id": "fe2be96a-6b73-4ab8-a201-be9db1a137d9",
   "metadata": {},
   "source": [
    "# 1D to 3D array"
   ]
  },
  {
   "cell_type": "code",
   "execution_count": 15,
   "id": "2a9ec3d1-cb6f-449d-871a-4eef64f818ba",
   "metadata": {},
   "outputs": [
    {
     "data": {
      "text/plain": [
       "array([[[1, 2],\n",
       "        [3, 4]],\n",
       "\n",
       "       [[5, 6],\n",
       "        [7, 8]]])"
      ]
     },
     "execution_count": 15,
     "metadata": {},
     "output_type": "execute_result"
    }
   ],
   "source": [
    "arr.reshape(2,2,2)"
   ]
  },
  {
   "cell_type": "code",
   "execution_count": 17,
   "id": "c2f08322-f0d5-4d2e-8eb6-266de5555bbc",
   "metadata": {},
   "outputs": [
    {
     "data": {
      "text/plain": [
       "array([[[1],\n",
       "        [2],\n",
       "        [3],\n",
       "        [4]],\n",
       "\n",
       "       [[5],\n",
       "        [6],\n",
       "        [7],\n",
       "        [8]]])"
      ]
     },
     "execution_count": 17,
     "metadata": {},
     "output_type": "execute_result"
    }
   ],
   "source": [
    "arr.reshape(2,-1,1)"
   ]
  },
  {
   "cell_type": "markdown",
   "id": "b37847bc-c49c-4368-ac6c-7163eca07eb7",
   "metadata": {},
   "source": [
    "# 3D to 1D array"
   ]
  },
  {
   "cell_type": "code",
   "execution_count": 20,
   "id": "1060ce36-a2ea-4138-bd6f-ee152c72e1bf",
   "metadata": {},
   "outputs": [],
   "source": [
    "arr3=np.array([[[1],[2],[3],[4]],[[5],[6],[7],[8]]])"
   ]
  },
  {
   "cell_type": "code",
   "execution_count": 22,
   "id": "4d0db675-d439-4fea-8de3-a2600dda8543",
   "metadata": {},
   "outputs": [
    {
     "data": {
      "text/plain": [
       "3"
      ]
     },
     "execution_count": 22,
     "metadata": {},
     "output_type": "execute_result"
    }
   ],
   "source": [
    "arr3.ndim"
   ]
  },
  {
   "cell_type": "code",
   "execution_count": 24,
   "id": "42b41191-878d-4743-823f-16ddc72973ff",
   "metadata": {},
   "outputs": [
    {
     "data": {
      "text/plain": [
       "(2, 4, 1)"
      ]
     },
     "execution_count": 24,
     "metadata": {},
     "output_type": "execute_result"
    }
   ],
   "source": [
    "arr3.shape"
   ]
  },
  {
   "cell_type": "code",
   "execution_count": 26,
   "id": "fb68a177-3c16-460a-a105-16ceff0c458f",
   "metadata": {},
   "outputs": [
    {
     "data": {
      "text/plain": [
       "array([1, 2, 3, 4, 5, 6, 7, 8])"
      ]
     },
     "execution_count": 26,
     "metadata": {},
     "output_type": "execute_result"
    }
   ],
   "source": [
    "arr3.reshape(-1)"
   ]
  },
  {
   "cell_type": "markdown",
   "id": "34e11c42-f67d-4836-9103-e350ef25b509",
   "metadata": {},
   "source": [
    "# SORTING"
   ]
  },
  {
   "cell_type": "code",
   "execution_count": 29,
   "id": "51e39d07-b26c-49e8-83f0-6e6f94845631",
   "metadata": {},
   "outputs": [
    {
     "data": {
      "text/plain": [
       "array([22, 34, 51, 12, 14, 23,  5])"
      ]
     },
     "execution_count": 29,
     "metadata": {},
     "output_type": "execute_result"
    }
   ],
   "source": [
    "x=np.array([22,34,51,12,14,23,5])\n",
    "x"
   ]
  },
  {
   "cell_type": "code",
   "execution_count": 38,
   "id": "5d1aa920-d65c-4397-872b-fe43d4b93080",
   "metadata": {},
   "outputs": [
    {
     "data": {
      "text/plain": [
       "array([ 5, 12, 14, 22, 23, 34, 51])"
      ]
     },
     "execution_count": 38,
     "metadata": {},
     "output_type": "execute_result"
    }
   ],
   "source": [
    "x=np.sort(x)\n",
    "x"
   ]
  },
  {
   "cell_type": "code",
   "execution_count": 42,
   "id": "3487efbb-9d7f-41e6-89b0-f4e61a703ba5",
   "metadata": {},
   "outputs": [],
   "source": [
    "# for descending order"
   ]
  },
  {
   "cell_type": "code",
   "execution_count": 44,
   "id": "14cfbd5f-4711-4de8-89e4-5617cec8a1c9",
   "metadata": {},
   "outputs": [
    {
     "data": {
      "text/plain": [
       "array([51, 34, 23, 22, 14, 12,  5])"
      ]
     },
     "execution_count": 44,
     "metadata": {},
     "output_type": "execute_result"
    }
   ],
   "source": [
    "x[::-1]"
   ]
  },
  {
   "cell_type": "code",
   "execution_count": null,
   "id": "9d761757-909b-43ba-8902-866b19be52c8",
   "metadata": {},
   "outputs": [],
   "source": []
  }
 ],
 "metadata": {
  "kernelspec": {
   "display_name": "Python 3 (ipykernel)",
   "language": "python",
   "name": "python3"
  },
  "language_info": {
   "codemirror_mode": {
    "name": "ipython",
    "version": 3
   },
   "file_extension": ".py",
   "mimetype": "text/x-python",
   "name": "python",
   "nbconvert_exporter": "python",
   "pygments_lexer": "ipython3",
   "version": "3.11.7"
  }
 },
 "nbformat": 4,
 "nbformat_minor": 5
}
