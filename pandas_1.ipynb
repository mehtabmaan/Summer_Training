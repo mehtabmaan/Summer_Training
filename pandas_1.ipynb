{
 "cells": [
  {
   "cell_type": "code",
   "execution_count": 1,
   "id": "f265d244-d318-4ee0-b66d-754861e8c72a",
   "metadata": {},
   "outputs": [
    {
     "name": "stdout",
     "output_type": "stream",
     "text": [
      "Requirement already satisfied: pandas in c:\\users\\mehta\\anaconda3\\lib\\site-packages (2.1.4)\n",
      "Requirement already satisfied: numpy<2,>=1.23.2 in c:\\users\\mehta\\anaconda3\\lib\\site-packages (from pandas) (1.26.4)\n",
      "Requirement already satisfied: python-dateutil>=2.8.2 in c:\\users\\mehta\\anaconda3\\lib\\site-packages (from pandas) (2.8.2)\n",
      "Requirement already satisfied: pytz>=2020.1 in c:\\users\\mehta\\anaconda3\\lib\\site-packages (from pandas) (2023.3.post1)\n",
      "Requirement already satisfied: tzdata>=2022.1 in c:\\users\\mehta\\anaconda3\\lib\\site-packages (from pandas) (2023.3)\n",
      "Requirement already satisfied: six>=1.5 in c:\\users\\mehta\\anaconda3\\lib\\site-packages (from python-dateutil>=2.8.2->pandas) (1.16.0)\n"
     ]
    }
   ],
   "source": [
    "!pip install pandas"
   ]
  },
  {
   "cell_type": "code",
   "execution_count": 3,
   "id": "c4e344f0-3dee-412a-8307-7529ec4bab80",
   "metadata": {},
   "outputs": [],
   "source": [
    "import pandas as pd"
   ]
  },
  {
   "cell_type": "code",
   "execution_count": 7,
   "id": "e4becec4-f103-49ea-9e50-819c94ead312",
   "metadata": {},
   "outputs": [],
   "source": [
    "# pandas-->\n",
    "#     1) Data Analysis\n",
    "#     2)Data Exploring\n",
    "#     3)Data Cleaning\n",
    "#     4)Data Manupulation\n",
    "# pandas--->excel,csv(comma seperated values,jason......."
   ]
  },
  {
   "cell_type": "code",
   "execution_count": 9,
   "id": "53536f3d-6132-41bc-8b61-f5bdd9c4e985",
   "metadata": {},
   "outputs": [],
   "source": [
    "# Data Structures in pandas:\n",
    "#     1)Series\n",
    "#     2)DataFrame"
   ]
  },
  {
   "cell_type": "code",
   "execution_count": 11,
   "id": "5d7642f3-eb4e-4451-9ed7-6efb8a57420d",
   "metadata": {},
   "outputs": [],
   "source": [
    "# series:a single column table..\n",
    "\n",
    "# DataFrame-->Collection of series\n"
   ]
  },
  {
   "cell_type": "code",
   "execution_count": null,
   "id": "f1ccc462-ffe5-4f55-9b9a-7ef709abfa0e",
   "metadata": {},
   "outputs": [],
   "source": []
  },
  {
   "cell_type": "code",
   "execution_count": 14,
   "id": "875165e0-0868-467e-83a3-8b7fc3262503",
   "metadata": {},
   "outputs": [],
   "source": [
    "username=[\"kriss\",\"moris\",\"harmnr\",\"mega\",\"hello\"]\n"
   ]
  },
  {
   "cell_type": "code",
   "execution_count": 16,
   "id": "46dd8d32-e87a-45a1-ac40-3c3bc12b180b",
   "metadata": {},
   "outputs": [
    {
     "data": {
      "text/plain": [
       "list"
      ]
     },
     "execution_count": 16,
     "metadata": {},
     "output_type": "execute_result"
    }
   ],
   "source": [
    "type(username)"
   ]
  },
  {
   "cell_type": "code",
   "execution_count": 18,
   "id": "9590f074-03da-42ba-bb9d-d68e7b2e0c6d",
   "metadata": {},
   "outputs": [
    {
     "data": {
      "text/plain": [
       "0     kriss\n",
       "1     moris\n",
       "2    harmnr\n",
       "3      mega\n",
       "4     hello\n",
       "dtype: object"
      ]
     },
     "execution_count": 18,
     "metadata": {},
     "output_type": "execute_result"
    }
   ],
   "source": [
    "data=pd.Series(username)\n",
    "data"
   ]
  },
  {
   "cell_type": "code",
   "execution_count": 20,
   "id": "19e36c61-efbc-483b-a5bc-f98fa2f34bbf",
   "metadata": {},
   "outputs": [
    {
     "data": {
      "text/plain": [
       "'hello'"
      ]
     },
     "execution_count": 20,
     "metadata": {},
     "output_type": "execute_result"
    }
   ],
   "source": [
    "data[4]"
   ]
  },
  {
   "cell_type": "code",
   "execution_count": 22,
   "id": "5a6f8861-270f-47bb-857a-7d9aa549c993",
   "metadata": {},
   "outputs": [],
   "source": [
    "# change indexing"
   ]
  },
  {
   "cell_type": "code",
   "execution_count": 26,
   "id": "68213b51-f0bb-434a-93c4-a7a6f3019162",
   "metadata": {},
   "outputs": [],
   "source": [
    "data=pd.Series(username,index=[\"a\",\"b\",\"c\",\"d\",\"e\"])"
   ]
  },
  {
   "cell_type": "code",
   "execution_count": 28,
   "id": "60d23f80-5766-44fb-a64d-e3535b3c831e",
   "metadata": {},
   "outputs": [
    {
     "data": {
      "text/plain": [
       "a     kriss\n",
       "b     moris\n",
       "c    harmnr\n",
       "d      mega\n",
       "e     hello\n",
       "dtype: object"
      ]
     },
     "execution_count": 28,
     "metadata": {},
     "output_type": "execute_result"
    }
   ],
   "source": [
    "data"
   ]
  },
  {
   "cell_type": "code",
   "execution_count": null,
   "id": "5de5489a-f905-4035-b5e0-538898bda33a",
   "metadata": {},
   "outputs": [],
   "source": []
  },
  {
   "cell_type": "raw",
   "id": "73df5a4b-4a47-48ff-9ab1-11e966f16094",
   "metadata": {},
   "source": [
    "create dataframe"
   ]
  },
  {
   "cell_type": "code",
   "execution_count": 42,
   "id": "309de152-27f3-421e-a3af-d3f59e805d02",
   "metadata": {},
   "outputs": [],
   "source": [
    "df=pd.DataFrame({\n",
    "    'username' : username,\n",
    "    'age' : [23,32,34,22,34],\n",
    "    'phone number' : [234325325,213325235,213124,2335325,3245325]\n",
    "})"
   ]
  },
  {
   "cell_type": "code",
   "execution_count": 44,
   "id": "c2c4866f-f95e-4be9-a6d0-d765ec64639a",
   "metadata": {},
   "outputs": [
    {
     "data": {
      "text/html": [
       "<div>\n",
       "<style scoped>\n",
       "    .dataframe tbody tr th:only-of-type {\n",
       "        vertical-align: middle;\n",
       "    }\n",
       "\n",
       "    .dataframe tbody tr th {\n",
       "        vertical-align: top;\n",
       "    }\n",
       "\n",
       "    .dataframe thead th {\n",
       "        text-align: right;\n",
       "    }\n",
       "</style>\n",
       "<table border=\"1\" class=\"dataframe\">\n",
       "  <thead>\n",
       "    <tr style=\"text-align: right;\">\n",
       "      <th></th>\n",
       "      <th>username</th>\n",
       "      <th>age</th>\n",
       "      <th>phone number</th>\n",
       "    </tr>\n",
       "  </thead>\n",
       "  <tbody>\n",
       "    <tr>\n",
       "      <th>0</th>\n",
       "      <td>kriss</td>\n",
       "      <td>23</td>\n",
       "      <td>234325325</td>\n",
       "    </tr>\n",
       "    <tr>\n",
       "      <th>1</th>\n",
       "      <td>moris</td>\n",
       "      <td>32</td>\n",
       "      <td>213325235</td>\n",
       "    </tr>\n",
       "    <tr>\n",
       "      <th>2</th>\n",
       "      <td>harmnr</td>\n",
       "      <td>34</td>\n",
       "      <td>213124</td>\n",
       "    </tr>\n",
       "    <tr>\n",
       "      <th>3</th>\n",
       "      <td>mega</td>\n",
       "      <td>22</td>\n",
       "      <td>2335325</td>\n",
       "    </tr>\n",
       "    <tr>\n",
       "      <th>4</th>\n",
       "      <td>hello</td>\n",
       "      <td>34</td>\n",
       "      <td>3245325</td>\n",
       "    </tr>\n",
       "  </tbody>\n",
       "</table>\n",
       "</div>"
      ],
      "text/plain": [
       "  username  age  phone number\n",
       "0    kriss   23     234325325\n",
       "1    moris   32     213325235\n",
       "2   harmnr   34        213124\n",
       "3     mega   22       2335325\n",
       "4    hello   34       3245325"
      ]
     },
     "execution_count": 44,
     "metadata": {},
     "output_type": "execute_result"
    }
   ],
   "source": [
    "df"
   ]
  },
  {
   "cell_type": "code",
   "execution_count": 52,
   "id": "9fb18009-fc56-4b8a-9e3d-323c1f8cb4cd",
   "metadata": {},
   "outputs": [
    {
     "data": {
      "text/plain": [
       "pandas.core.frame.DataFrame"
      ]
     },
     "execution_count": 52,
     "metadata": {},
     "output_type": "execute_result"
    }
   ],
   "source": [
    "type(df)"
   ]
  },
  {
   "cell_type": "code",
   "execution_count": 60,
   "id": "70f6c0ac-c16c-451e-99ee-2197ca280e0e",
   "metadata": {},
   "outputs": [
    {
     "data": {
      "text/plain": [
       "0    23\n",
       "1    32\n",
       "2    34\n",
       "3    22\n",
       "4    34\n",
       "Name: age, dtype: int64"
      ]
     },
     "execution_count": 60,
     "metadata": {},
     "output_type": "execute_result"
    }
   ],
   "source": [
    "df[\"age\"]"
   ]
  },
  {
   "cell_type": "code",
   "execution_count": 62,
   "id": "7ecb377a-6f24-46d6-99c8-71ad844238c0",
   "metadata": {},
   "outputs": [
    {
     "data": {
      "text/plain": [
       "pandas.core.series.Series"
      ]
     },
     "execution_count": 62,
     "metadata": {},
     "output_type": "execute_result"
    }
   ],
   "source": [
    "type(df[\"age\"])"
   ]
  },
  {
   "cell_type": "code",
   "execution_count": 75,
   "id": "cbe2665c-2549-49d7-acab-d813d2ddfd72",
   "metadata": {},
   "outputs": [
    {
     "data": {
      "text/plain": [
       "array([ 4,  8, 12, 16, 20, 24, 28, 32, 36, 40])"
      ]
     },
     "execution_count": 75,
     "metadata": {},
     "output_type": "execute_result"
    }
   ],
   "source": [
    "import numpy as np\n",
    "a=np.arange(4,41,4)\n",
    "a"
   ]
  },
  {
   "cell_type": "code",
   "execution_count": 77,
   "id": "c108900e-67af-4615-adb8-c8f91b2c68b5",
   "metadata": {},
   "outputs": [],
   "source": [
    "# data frame create"
   ]
  },
  {
   "cell_type": "code",
   "execution_count": 147,
   "id": "13bbe0ae-1ea9-4dac-a373-2a4342a9b08a",
   "metadata": {},
   "outputs": [],
   "source": [
    "def create_table(x):\n",
    "    b=[]\n",
    "    for i in range(1,11):\n",
    "        \n",
    "        b.append(f\"{x} x {i} = {x*i}\")\n",
    "    return b\n"
   ]
  },
  {
   "cell_type": "code",
   "execution_count": 149,
   "id": "6623e02b-858f-464c-b94a-0673fe8752c6",
   "metadata": {},
   "outputs": [
    {
     "data": {
      "text/plain": [
       "['5 x 1 = 5',\n",
       " '5 x 2 = 10',\n",
       " '5 x 3 = 15',\n",
       " '5 x 4 = 20',\n",
       " '5 x 5 = 25',\n",
       " '5 x 6 = 30',\n",
       " '5 x 7 = 35',\n",
       " '5 x 8 = 40',\n",
       " '5 x 9 = 45',\n",
       " '5 x 10 = 50']"
      ]
     },
     "execution_count": 149,
     "metadata": {},
     "output_type": "execute_result"
    }
   ],
   "source": [
    "create_table(5)"
   ]
  },
  {
   "cell_type": "code",
   "execution_count": null,
   "id": "e988cdae-6850-4b17-9579-dcfcceee1388",
   "metadata": {},
   "outputs": [],
   "source": []
  },
  {
   "cell_type": "code",
   "execution_count": 152,
   "id": "f492597d-381e-4511-b51c-7846e0ea5867",
   "metadata": {},
   "outputs": [],
   "source": [
    "x=[\"thistrain\",\"thisbusss\",\"thiscarrr\",\"thisbikee\"]"
   ]
  },
  {
   "cell_type": "code",
   "execution_count": 158,
   "id": "abc0b639-7e2a-4acc-905f-ee91a22a6031",
   "metadata": {},
   "outputs": [
    {
     "data": {
      "text/plain": [
       "['t', 'h', 'i', 's', 't', 'r', 'a', 'i', 'n']"
      ]
     },
     "execution_count": 158,
     "metadata": {},
     "output_type": "execute_result"
    }
   ],
   "source": [
    "def func(v):\n",
    "    lt=[]\n",
    "    for i in v:\n",
    "        v\n",
    "        lt.append(i)\n",
    "    return lt\n",
    "# func(\"thistrain\")"
   ]
  },
  {
   "cell_type": "code",
   "execution_count": 176,
   "id": "d316ab50-4ef7-420d-bf37-a3db97b2e3b0",
   "metadata": {},
   "outputs": [
    {
     "data": {
      "text/html": [
       "<div>\n",
       "<style scoped>\n",
       "    .dataframe tbody tr th:only-of-type {\n",
       "        vertical-align: middle;\n",
       "    }\n",
       "\n",
       "    .dataframe tbody tr th {\n",
       "        vertical-align: top;\n",
       "    }\n",
       "\n",
       "    .dataframe thead th {\n",
       "        text-align: right;\n",
       "    }\n",
       "</style>\n",
       "<table border=\"1\" class=\"dataframe\">\n",
       "  <thead>\n",
       "    <tr style=\"text-align: right;\">\n",
       "      <th></th>\n",
       "      <th>thistrain</th>\n",
       "      <th>thisbusss</th>\n",
       "      <th>thiscarrr</th>\n",
       "      <th>thisbikee</th>\n",
       "    </tr>\n",
       "  </thead>\n",
       "  <tbody>\n",
       "    <tr>\n",
       "      <th>0</th>\n",
       "      <td>t</td>\n",
       "      <td>t</td>\n",
       "      <td>t</td>\n",
       "      <td>t</td>\n",
       "    </tr>\n",
       "    <tr>\n",
       "      <th>1</th>\n",
       "      <td>h</td>\n",
       "      <td>h</td>\n",
       "      <td>h</td>\n",
       "      <td>h</td>\n",
       "    </tr>\n",
       "    <tr>\n",
       "      <th>2</th>\n",
       "      <td>i</td>\n",
       "      <td>i</td>\n",
       "      <td>i</td>\n",
       "      <td>i</td>\n",
       "    </tr>\n",
       "    <tr>\n",
       "      <th>3</th>\n",
       "      <td>s</td>\n",
       "      <td>s</td>\n",
       "      <td>s</td>\n",
       "      <td>s</td>\n",
       "    </tr>\n",
       "    <tr>\n",
       "      <th>4</th>\n",
       "      <td>t</td>\n",
       "      <td>b</td>\n",
       "      <td>c</td>\n",
       "      <td>b</td>\n",
       "    </tr>\n",
       "    <tr>\n",
       "      <th>5</th>\n",
       "      <td>r</td>\n",
       "      <td>u</td>\n",
       "      <td>a</td>\n",
       "      <td>i</td>\n",
       "    </tr>\n",
       "    <tr>\n",
       "      <th>6</th>\n",
       "      <td>a</td>\n",
       "      <td>s</td>\n",
       "      <td>r</td>\n",
       "      <td>k</td>\n",
       "    </tr>\n",
       "    <tr>\n",
       "      <th>7</th>\n",
       "      <td>i</td>\n",
       "      <td>s</td>\n",
       "      <td>r</td>\n",
       "      <td>e</td>\n",
       "    </tr>\n",
       "    <tr>\n",
       "      <th>8</th>\n",
       "      <td>n</td>\n",
       "      <td>s</td>\n",
       "      <td>r</td>\n",
       "      <td>e</td>\n",
       "    </tr>\n",
       "  </tbody>\n",
       "</table>\n",
       "</div>"
      ],
      "text/plain": [
       "  thistrain thisbusss thiscarrr thisbikee\n",
       "0         t         t         t         t\n",
       "1         h         h         h         h\n",
       "2         i         i         i         i\n",
       "3         s         s         s         s\n",
       "4         t         b         c         b\n",
       "5         r         u         a         i\n",
       "6         a         s         r         k\n",
       "7         i         s         r         e\n",
       "8         n         s         r         e"
      ]
     },
     "execution_count": 176,
     "metadata": {},
     "output_type": "execute_result"
    }
   ],
   "source": [
    "data=pd.DataFrame({\n",
    "    'thistrain' : func('thistrain'),\n",
    "    'thisbusss' : func('thisbusss'),\n",
    "    'thiscarrr' : func('thiscarrr'),\n",
    "    'thisbikee' : func('thisbikee')    \n",
    "})\n",
    "data"
   ]
  },
  {
   "cell_type": "code",
   "execution_count": null,
   "id": "439fd8c4-fc66-40c3-b7a3-ffaeb7f8e160",
   "metadata": {},
   "outputs": [],
   "source": []
  }
 ],
 "metadata": {
  "kernelspec": {
   "display_name": "Python 3 (ipykernel)",
   "language": "python",
   "name": "python3"
  },
  "language_info": {
   "codemirror_mode": {
    "name": "ipython",
    "version": 3
   },
   "file_extension": ".py",
   "mimetype": "text/x-python",
   "name": "python",
   "nbconvert_exporter": "python",
   "pygments_lexer": "ipython3",
   "version": "3.11.7"
  }
 },
 "nbformat": 4,
 "nbformat_minor": 5
}
