{
 "cells": [
  {
   "cell_type": "code",
   "execution_count": 2,
   "id": "3cd495e2-3790-42d9-a320-69b04731e76b",
   "metadata": {},
   "outputs": [],
   "source": [
    "# Random"
   ]
  },
  {
   "cell_type": "code",
   "execution_count": 4,
   "id": "4a809b23-9c59-4623-ab8f-59b71dab9332",
   "metadata": {},
   "outputs": [],
   "source": [
    "import numpy as np\n",
    "from numpy import random"
   ]
  },
  {
   "cell_type": "code",
   "execution_count": 6,
   "id": "e902b52d-6f09-41e2-ac2e-c57bb915794a",
   "metadata": {},
   "outputs": [],
   "source": [
    "# randint()\n",
    "# random.randit(start,end,size=(dimensions))"
   ]
  },
  {
   "cell_type": "code",
   "execution_count": 18,
   "id": "33f92dc8-c5d6-4725-b251-a7f4649a3274",
   "metadata": {},
   "outputs": [],
   "source": [
    "zx=random.randint(100)"
   ]
  },
  {
   "cell_type": "code",
   "execution_count": 20,
   "id": "57fd16dc-8b52-47ec-a00e-bdee0b506305",
   "metadata": {},
   "outputs": [
    {
     "data": {
      "text/plain": [
       "57"
      ]
     },
     "execution_count": 20,
     "metadata": {},
     "output_type": "execute_result"
    }
   ],
   "source": [
    "zx"
   ]
  },
  {
   "cell_type": "code",
   "execution_count": null,
   "id": "1989c510-911e-4ce6-bcf1-64f63ab4dcde",
   "metadata": {},
   "outputs": [],
   "source": []
  },
  {
   "cell_type": "code",
   "execution_count": 25,
   "id": "57a42382-274b-4e91-adba-be6cffab3295",
   "metadata": {},
   "outputs": [],
   "source": [
    "# size--->perameter"
   ]
  },
  {
   "cell_type": "code",
   "execution_count": 27,
   "id": "d0f1b9d3-5930-456b-bffc-6fa880d5b260",
   "metadata": {},
   "outputs": [],
   "source": [
    "# 10-----20 :::50"
   ]
  },
  {
   "cell_type": "code",
   "execution_count": 29,
   "id": "c7624f39-fd05-43d9-b583-69693fcba4f7",
   "metadata": {},
   "outputs": [
    {
     "data": {
      "text/plain": [
       "array([15, 17, 18, 15, 15])"
      ]
     },
     "execution_count": 29,
     "metadata": {},
     "output_type": "execute_result"
    }
   ],
   "source": [
    "x=random.randint(10,20,size=(5))\n",
    "x"
   ]
  },
  {
   "cell_type": "code",
   "execution_count": 31,
   "id": "9d64a6bd-162e-4d71-8792-6fec407bf45f",
   "metadata": {},
   "outputs": [],
   "source": [
    "# for 2D array\n"
   ]
  },
  {
   "cell_type": "code",
   "execution_count": 33,
   "id": "347cf272-4690-4bb9-b12c-88719002fda4",
   "metadata": {},
   "outputs": [
    {
     "data": {
      "text/plain": [
       "array([[36, 17, 19, 21],\n",
       "       [26, 19, 37, 17],\n",
       "       [34, 25, 44, 31],\n",
       "       [37, 36, 36, 49],\n",
       "       [25, 40, 21, 25]])"
      ]
     },
     "execution_count": 33,
     "metadata": {},
     "output_type": "execute_result"
    }
   ],
   "source": [
    "x=random.randint(10,50,size=(5,4))\n",
    "x"
   ]
  },
  {
   "cell_type": "code",
   "execution_count": null,
   "id": "1166267c-c247-484c-83a1-4249b0da2543",
   "metadata": {},
   "outputs": [],
   "source": []
  },
  {
   "cell_type": "code",
   "execution_count": 36,
   "id": "289040d7-a30c-4518-8386-d0f301716629",
   "metadata": {},
   "outputs": [],
   "source": [
    "# rand()-----> 0 to 1"
   ]
  },
  {
   "cell_type": "code",
   "execution_count": 50,
   "id": "336857f5-5955-4ea9-b898-0118212e3d2a",
   "metadata": {},
   "outputs": [
    {
     "data": {
      "text/plain": [
       "0.503145628935266"
      ]
     },
     "execution_count": 50,
     "metadata": {},
     "output_type": "execute_result"
    }
   ],
   "source": [
    "a=random.rand()\n",
    "a"
   ]
  },
  {
   "cell_type": "code",
   "execution_count": 54,
   "id": "fdb0cc7e-a719-47e9-9473-75f70a834bd9",
   "metadata": {},
   "outputs": [
    {
     "data": {
      "text/plain": [
       "array([0.62535168, 0.77215195, 0.10585327, 0.26261225, 0.74046524,\n",
       "       0.81235021, 0.66703209, 0.19128157, 0.05766829, 0.55489254])"
      ]
     },
     "execution_count": 54,
     "metadata": {},
     "output_type": "execute_result"
    }
   ],
   "source": [
    "x=random.rand(10)\n",
    "x"
   ]
  },
  {
   "cell_type": "code",
   "execution_count": 56,
   "id": "d5b810fc-98e2-4623-bc16-95e69f5275f3",
   "metadata": {},
   "outputs": [
    {
     "data": {
      "text/plain": [
       "array([[0.20689938, 0.89496082, 0.61475115, 0.35320121],\n",
       "       [0.23631696, 0.26718565, 0.31905616, 0.02550915]])"
      ]
     },
     "execution_count": 56,
     "metadata": {},
     "output_type": "execute_result"
    }
   ],
   "source": [
    "x=random.rand(2,4) # for 2-D\n",
    "x"
   ]
  },
  {
   "cell_type": "code",
   "execution_count": 60,
   "id": "7fb0050d-336a-4369-b661-a2332a3b0298",
   "metadata": {},
   "outputs": [
    {
     "data": {
      "text/plain": [
       "array([[[0.06480638],\n",
       "        [0.40857619],\n",
       "        [0.64134958]],\n",
       "\n",
       "       [[0.34393079],\n",
       "        [0.98842343],\n",
       "        [0.60866026]]])"
      ]
     },
     "execution_count": 60,
     "metadata": {},
     "output_type": "execute_result"
    }
   ],
   "source": [
    "# for 3-D\n",
    "x=random.rand(2,3,1)\n",
    "x"
   ]
  },
  {
   "cell_type": "code",
   "execution_count": null,
   "id": "93b69c73-6bee-4c08-a1d4-d163cc4f574e",
   "metadata": {},
   "outputs": [],
   "source": []
  },
  {
   "cell_type": "code",
   "execution_count": 65,
   "id": "0f4d8341-95b1-460d-8050-c0e5c7657abe",
   "metadata": {},
   "outputs": [],
   "source": [
    "# random()\n",
    "# same as rand"
   ]
  },
  {
   "cell_type": "code",
   "execution_count": 67,
   "id": "703f50e5-0fed-42bd-8c81-513bdfb91a93",
   "metadata": {},
   "outputs": [],
   "source": [
    "# choice"
   ]
  },
  {
   "cell_type": "code",
   "execution_count": 75,
   "id": "a2dcaff6-f6d0-4a3f-9b06-54e1250c380f",
   "metadata": {},
   "outputs": [
    {
     "data": {
      "text/plain": [
       "3"
      ]
     },
     "execution_count": 75,
     "metadata": {},
     "output_type": "execute_result"
    }
   ],
   "source": [
    "zx=random.choice([1,2,3,4,5])\n",
    "zx"
   ]
  },
  {
   "cell_type": "code",
   "execution_count": 80,
   "id": "e30222d0-9bfb-43e3-97ce-b78efe816eba",
   "metadata": {},
   "outputs": [
    {
     "data": {
      "text/plain": [
       "array([[2, 1],\n",
       "       [2, 5]])"
      ]
     },
     "execution_count": 80,
     "metadata": {},
     "output_type": "execute_result"
    }
   ],
   "source": [
    "# to make array of choices\n",
    "zx=random.choice([1,2,3,4,5],size=(2,2))\n",
    "zx"
   ]
  },
  {
   "cell_type": "code",
   "execution_count": 103,
   "id": "62eecb4f-87ab-43c8-b3de-8fc7887c5e8c",
   "metadata": {},
   "outputs": [],
   "source": [
    "# random.shuffle()\n"
   ]
  },
  {
   "cell_type": "code",
   "execution_count": 113,
   "id": "943c34fc-2c9a-44cf-a9c6-0f54a14bd097",
   "metadata": {},
   "outputs": [],
   "source": [
    "zx=np.array([1,2,3,23])\n",
    "random.shuffle(zx)"
   ]
  },
  {
   "cell_type": "code",
   "execution_count": 115,
   "id": "535d2e81-6063-41b4-ab43-a6f101d7b6d2",
   "metadata": {},
   "outputs": [
    {
     "data": {
      "text/plain": [
       "array([ 3,  2,  1, 23])"
      ]
     },
     "execution_count": 115,
     "metadata": {},
     "output_type": "execute_result"
    }
   ],
   "source": [
    "zx"
   ]
  },
  {
   "cell_type": "code",
   "execution_count": null,
   "id": "05bd43f6-8f84-464f-96ba-61d6dbe2d1cb",
   "metadata": {},
   "outputs": [],
   "source": []
  },
  {
   "cell_type": "code",
   "execution_count": 123,
   "id": "5d41ea85-641f-44c7-8625-e40758c926fe",
   "metadata": {},
   "outputs": [],
   "source": [
    "# random()\n",
    "# randint()\n",
    "# rand()\n",
    "# choice()b\n",
    "# shuffle()"
   ]
  },
  {
   "cell_type": "code",
   "execution_count": null,
   "id": "881ceea8-992b-4de8-bac5-e991ac298b3d",
   "metadata": {},
   "outputs": [],
   "source": []
  }
 ],
 "metadata": {
  "kernelspec": {
   "display_name": "Python 3 (ipykernel)",
   "language": "python",
   "name": "python3"
  },
  "language_info": {
   "codemirror_mode": {
    "name": "ipython",
    "version": 3
   },
   "file_extension": ".py",
   "mimetype": "text/x-python",
   "name": "python",
   "nbconvert_exporter": "python",
   "pygments_lexer": "ipython3",
   "version": "3.11.7"
  }
 },
 "nbformat": 4,
 "nbformat_minor": 5
}
