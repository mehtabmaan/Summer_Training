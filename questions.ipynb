{
 "cells": [
  {
   "cell_type": "code",
   "execution_count": 41,
   "id": "01a2981d-4cd7-408f-afe2-d998c68a2a93",
   "metadata": {},
   "outputs": [],
   "source": [
    "import numpy as np"
   ]
  },
  {
   "cell_type": "code",
   "execution_count": 43,
   "id": "ffd9f2c8-6efa-41d3-851d-a5b95fd0f850",
   "metadata": {},
   "outputs": [],
   "source": [
    "from numpy import random"
   ]
  },
  {
   "cell_type": "code",
   "execution_count": 45,
   "id": "ed48c657-6580-401a-99d1-03791eee0170",
   "metadata": {},
   "outputs": [
    {
     "data": {
      "text/plain": [
       "-0.29873627638586164"
      ]
     },
     "execution_count": 45,
     "metadata": {},
     "output_type": "execute_result"
    }
   ],
   "source": [
    "q=random.uniform(-1,1)\n",
    "q"
   ]
  },
  {
   "cell_type": "code",
   "execution_count": 47,
   "id": "c1bd1013-75dc-46b0-b9e4-455d29d254d6",
   "metadata": {},
   "outputs": [],
   "source": [
    "# Generate a 3x3 Numpy array with random floating point numbers between -1 and 1.Compute the absolute value of each element."
   ]
  },
  {
   "cell_type": "code",
   "execution_count": 49,
   "id": "8e803260-2234-4105-b76d-78748028237d",
   "metadata": {},
   "outputs": [
    {
     "data": {
      "text/plain": [
       "array([[-0.17238664, -0.75044538,  0.96976914],\n",
       "       [ 0.17099991, -0.6392153 ,  0.80111056],\n",
       "       [-0.05581162, -0.75805881, -0.86591507]])"
      ]
     },
     "execution_count": 49,
     "metadata": {},
     "output_type": "execute_result"
    }
   ],
   "source": [
    "w=random.uniform(-1,1,size=(3,3))\n",
    "w"
   ]
  },
  {
   "cell_type": "code",
   "execution_count": 51,
   "id": "f670db9a-7196-40cd-983e-6fbb68b143e9",
   "metadata": {},
   "outputs": [
    {
     "data": {
      "text/plain": [
       "array([[0.17238664, 0.75044538, 0.96976914],\n",
       "       [0.17099991, 0.6392153 , 0.80111056],\n",
       "       [0.05581162, 0.75805881, 0.86591507]])"
      ]
     },
     "execution_count": 51,
     "metadata": {},
     "output_type": "execute_result"
    }
   ],
   "source": [
    "np.absolute(w)"
   ]
  },
  {
   "cell_type": "code",
   "execution_count": 53,
   "id": "82896993-62eb-41a8-a205-8e2ef9e8af81",
   "metadata": {},
   "outputs": [],
   "source": [
    "# gernerate a 6x6 numpy array with random integers between 0 and 100 . find the max value in each row and replace with the string 'max'"
   ]
  },
  {
   "cell_type": "code",
   "execution_count": 171,
   "id": "5ee57a53-7e05-4c6e-b63f-9b3597c72c53",
   "metadata": {},
   "outputs": [
    {
     "data": {
      "text/plain": [
       "array([[b'68', b'23', b'16', b'60', b'44', b'26'],\n",
       "       [b'7', b'99', b'17', b'8', b'85', b'73'],\n",
       "       [b'7', b'75', b'64', b'91', b'55', b'42'],\n",
       "       [b'39', b'95', b'98', b'92', b'60', b'2'],\n",
       "       [b'34', b'38', b'53', b'56', b'14', b'58'],\n",
       "       [b'12', b'45', b'26', b'7', b'37', b'88']], dtype='|S11')"
      ]
     },
     "execution_count": 171,
     "metadata": {},
     "output_type": "execute_result"
    }
   ],
   "source": [
    "arr=random.randint(0,100,size=(6,6))\n",
    "arr = arr.astype(\"S\")\n",
    "arr"
   ]
  },
  {
   "cell_type": "code",
   "execution_count": 183,
   "id": "eb95ce1a-28f0-47a1-84c0-1845eba9a075",
   "metadata": {},
   "outputs": [
    {
     "ename": "UFuncTypeError",
     "evalue": "ufunc 'maximum' did not contain a loop with signature matching types (dtype('S11'), dtype('S11')) -> None",
     "output_type": "error",
     "traceback": [
      "\u001b[1;31m---------------------------------------------------------------------------\u001b[0m",
      "\u001b[1;31mUFuncTypeError\u001b[0m                            Traceback (most recent call last)",
      "Cell \u001b[1;32mIn[183], line 1\u001b[0m\n\u001b[1;32m----> 1\u001b[0m y\u001b[38;5;241m=\u001b[39mnp\u001b[38;5;241m.\u001b[39mamax(arr,axis\u001b[38;5;241m=\u001b[39m\u001b[38;5;241m1\u001b[39m)\n\u001b[0;32m      2\u001b[0m y\n",
      "File \u001b[1;32m~\\anaconda3\\Lib\\site-packages\\numpy\\core\\fromnumeric.py:2827\u001b[0m, in \u001b[0;36mamax\u001b[1;34m(a, axis, out, keepdims, initial, where)\u001b[0m\n\u001b[0;32m   2814\u001b[0m \u001b[38;5;129m@array_function_dispatch\u001b[39m(_max_dispatcher)\n\u001b[0;32m   2815\u001b[0m \u001b[38;5;28;01mdef\u001b[39;00m \u001b[38;5;21mamax\u001b[39m(a, axis\u001b[38;5;241m=\u001b[39m\u001b[38;5;28;01mNone\u001b[39;00m, out\u001b[38;5;241m=\u001b[39m\u001b[38;5;28;01mNone\u001b[39;00m, keepdims\u001b[38;5;241m=\u001b[39mnp\u001b[38;5;241m.\u001b[39m_NoValue, initial\u001b[38;5;241m=\u001b[39mnp\u001b[38;5;241m.\u001b[39m_NoValue,\n\u001b[0;32m   2816\u001b[0m          where\u001b[38;5;241m=\u001b[39mnp\u001b[38;5;241m.\u001b[39m_NoValue):\n\u001b[0;32m   2817\u001b[0m \u001b[38;5;250m    \u001b[39m\u001b[38;5;124;03m\"\"\"\u001b[39;00m\n\u001b[0;32m   2818\u001b[0m \u001b[38;5;124;03m    Return the maximum of an array or maximum along an axis.\u001b[39;00m\n\u001b[0;32m   2819\u001b[0m \n\u001b[1;32m   (...)\u001b[0m\n\u001b[0;32m   2825\u001b[0m \u001b[38;5;124;03m    ndarray.max : equivalent method\u001b[39;00m\n\u001b[0;32m   2826\u001b[0m \u001b[38;5;124;03m    \"\"\"\u001b[39;00m\n\u001b[1;32m-> 2827\u001b[0m     \u001b[38;5;28;01mreturn\u001b[39;00m _wrapreduction(a, np\u001b[38;5;241m.\u001b[39mmaximum, \u001b[38;5;124m'\u001b[39m\u001b[38;5;124mmax\u001b[39m\u001b[38;5;124m'\u001b[39m, axis, \u001b[38;5;28;01mNone\u001b[39;00m, out,\n\u001b[0;32m   2828\u001b[0m                           keepdims\u001b[38;5;241m=\u001b[39mkeepdims, initial\u001b[38;5;241m=\u001b[39minitial, where\u001b[38;5;241m=\u001b[39mwhere)\n",
      "File \u001b[1;32m~\\anaconda3\\Lib\\site-packages\\numpy\\core\\fromnumeric.py:88\u001b[0m, in \u001b[0;36m_wrapreduction\u001b[1;34m(obj, ufunc, method, axis, dtype, out, **kwargs)\u001b[0m\n\u001b[0;32m     85\u001b[0m         \u001b[38;5;28;01melse\u001b[39;00m:\n\u001b[0;32m     86\u001b[0m             \u001b[38;5;28;01mreturn\u001b[39;00m reduction(axis\u001b[38;5;241m=\u001b[39maxis, out\u001b[38;5;241m=\u001b[39mout, \u001b[38;5;241m*\u001b[39m\u001b[38;5;241m*\u001b[39mpasskwargs)\n\u001b[1;32m---> 88\u001b[0m \u001b[38;5;28;01mreturn\u001b[39;00m ufunc\u001b[38;5;241m.\u001b[39mreduce(obj, axis, dtype, out, \u001b[38;5;241m*\u001b[39m\u001b[38;5;241m*\u001b[39mpasskwargs)\n",
      "\u001b[1;31mUFuncTypeError\u001b[0m: ufunc 'maximum' did not contain a loop with signature matching types (dtype('S11'), dtype('S11')) -> None"
     ]
    }
   ],
   "source": [
    "y=np.amax(arr,axis=1)\n",
    "y"
   ]
  },
  {
   "cell_type": "code",
   "execution_count": 177,
   "id": "5899f221-b91b-4130-b490-a7c6f0a264aa",
   "metadata": {},
   "outputs": [
    {
     "data": {
      "text/plain": [
       "dtype('S11')"
      ]
     },
     "execution_count": 177,
     "metadata": {},
     "output_type": "execute_result"
    }
   ],
   "source": [
    "w=arr.reshape(-1)\n",
    "\n",
    "w.dtype"
   ]
  },
  {
   "cell_type": "code",
   "execution_count": 179,
   "id": "c7f1b092-7b4c-4060-a32f-d07d9cb601d1",
   "metadata": {},
   "outputs": [],
   "source": [
    "for i in y:\n",
    "    ind=np.where(w==i)\n",
    "    w[ind]=\"MAX\""
   ]
  },
  {
   "cell_type": "code",
   "execution_count": 181,
   "id": "29e5651c-5b2d-4bac-ba75-066f32593a46",
   "metadata": {},
   "outputs": [
    {
     "data": {
      "text/plain": [
       "array([b'68', b'23', b'16', b'60', b'44', b'26', b'7', b'99', b'17', b'8',\n",
       "       b'85', b'73', b'7', b'75', b'64', b'91', b'55', b'42', b'39',\n",
       "       b'95', b'98', b'92', b'60', b'2', b'34', b'38', b'53', b'56',\n",
       "       b'14', b'58', b'12', b'45', b'26', b'7', b'37', b'88'],\n",
       "      dtype='|S11')"
      ]
     },
     "execution_count": 181,
     "metadata": {},
     "output_type": "execute_result"
    }
   ],
   "source": [
    "w"
   ]
  },
  {
   "cell_type": "code",
   "execution_count": null,
   "id": "dadf3afa-0971-4b0f-9c07-0e662732ffc7",
   "metadata": {},
   "outputs": [],
   "source": []
  },
  {
   "cell_type": "code",
   "execution_count": 121,
   "id": "e731019c-31ab-4d77-91d0-f2d8e5bd8379",
   "metadata": {},
   "outputs": [
    {
     "data": {
      "text/plain": [
       "array([[92,  3, 74, 45, 86, 23],\n",
       "       [42, 74, 46, 49, 26, 29],\n",
       "       [91, 69, 78, 62, 94, 54],\n",
       "       [31, 83, 15, 24,  3, 73],\n",
       "       [12, 36, 53,  1, 31,  5],\n",
       "       [22, 33, 76, 42, 58, 47]])"
      ]
     },
     "execution_count": 121,
     "metadata": {},
     "output_type": "execute_result"
    }
   ],
   "source": [
    "arr=random.randint(0,100,size=(6,6))\n",
    "arr"
   ]
  },
  {
   "cell_type": "code",
   "execution_count": 125,
   "id": "1a75f8b2-9f41-4f29-b575-ebc293b1f9c3",
   "metadata": {},
   "outputs": [
    {
     "name": "stdout",
     "output_type": "stream",
     "text": [
      "92\n",
      "74\n",
      "94\n",
      "83\n",
      "53\n",
      "76\n"
     ]
    }
   ],
   "source": [
    "for i in arr:\n",
    "    print(max(i))\n",
    "    "
   ]
  },
  {
   "cell_type": "code",
   "execution_count": 151,
   "id": "04fff2f8-ec97-4d54-99dc-f0beccda8cc9",
   "metadata": {},
   "outputs": [],
   "source": [
    "pq = np.array([12, 23, 3, \"ca\"], dtype = \"S\")"
   ]
  },
  {
   "cell_type": "code",
   "execution_count": 153,
   "id": "5f729636-86e8-4e9e-b99f-503e33b3a339",
   "metadata": {},
   "outputs": [
    {
     "data": {
      "text/plain": [
       "array([b'12', b'23', b'3', b'ca'], dtype='|S2')"
      ]
     },
     "execution_count": 153,
     "metadata": {},
     "output_type": "execute_result"
    }
   ],
   "source": [
    "pq"
   ]
  },
  {
   "cell_type": "code",
   "execution_count": null,
   "id": "7ba8804c-57e6-44fb-8552-7c6f84edb1b1",
   "metadata": {},
   "outputs": [],
   "source": []
  },
  {
   "cell_type": "code",
   "execution_count": null,
   "id": "5000754e-6323-4628-a355-92aac8e8b5d7",
   "metadata": {},
   "outputs": [],
   "source": []
  },
  {
   "cell_type": "code",
   "execution_count": 163,
   "id": "7d5d1273-f9be-43f7-b851-4ce776544ab6",
   "metadata": {},
   "outputs": [
    {
     "ename": "TypeError",
     "evalue": "arange() not supported for inputs with DType <class 'numpy.dtypes.BytesDType'>.",
     "output_type": "error",
     "traceback": [
      "\u001b[1;31m---------------------------------------------------------------------------\u001b[0m",
      "\u001b[1;31mTypeError\u001b[0m                                 Traceback (most recent call last)",
      "Cell \u001b[1;32mIn[163], line 1\u001b[0m\n\u001b[1;32m----> 1\u001b[0m zx \u001b[38;5;241m=\u001b[39m np\u001b[38;5;241m.\u001b[39marange(\u001b[38;5;241m1\u001b[39m, \u001b[38;5;241m11\u001b[39m, dtype \u001b[38;5;241m=\u001b[39m \u001b[38;5;124m\"\u001b[39m\u001b[38;5;124mS\u001b[39m\u001b[38;5;124m\"\u001b[39m)\n",
      "\u001b[1;31mTypeError\u001b[0m: arange() not supported for inputs with DType <class 'numpy.dtypes.BytesDType'>."
     ]
    }
   ],
   "source": [
    "zx = np.arange(1, 11, dtype = \"S\")"
   ]
  },
  {
   "cell_type": "code",
   "execution_count": 185,
   "id": "1646ba1c-41fd-41aa-ba7f-c53012dfa71a",
   "metadata": {},
   "outputs": [],
   "source": [
    "# create a numoy array with the elements[\"cat\",\"dog\",\"bird\",\"cat\",\"dog\",\"fish\"] and then count the occurences of each unique element."
   ]
  },
  {
   "cell_type": "code",
   "execution_count": 187,
   "id": "5a36ee50-8f10-487a-9c9b-0f53b46f4244",
   "metadata": {},
   "outputs": [],
   "source": [
    "arr=np.array([\"cat\",\"dog\",\"bird\",\"cat\",\"dog\",\"fish\"])"
   ]
  },
  {
   "cell_type": "code",
   "execution_count": 189,
   "id": "69f4a693-444e-4088-80d0-feb9caa7a5ba",
   "metadata": {},
   "outputs": [
    {
     "data": {
      "text/plain": [
       "array(['bird', 'cat', 'dog', 'fish'], dtype='<U4')"
      ]
     },
     "execution_count": 189,
     "metadata": {},
     "output_type": "execute_result"
    }
   ],
   "source": [
    "arr1=np.unique(arr)\n",
    "arr1"
   ]
  },
  {
   "cell_type": "code",
   "execution_count": 191,
   "id": "085db7d8-c796-497e-9386-11a0716b2ee2",
   "metadata": {},
   "outputs": [
    {
     "name": "stdout",
     "output_type": "stream",
     "text": [
      "the occurence of bird = 1\n",
      "the occurence of cat = 2\n",
      "the occurence of dog = 2\n",
      "the occurence of fish = 1\n"
     ]
    }
   ],
   "source": [
    "for i in arr1:\n",
    "    count=0\n",
    "    for j in arr:\n",
    "        if i==j:\n",
    "            count=count+1\n",
    "    print(f\"the occurence of {i} = {count}\") "
   ]
  },
  {
   "cell_type": "code",
   "execution_count": null,
   "id": "998a443a-5fd8-4630-83f7-99d0c0957191",
   "metadata": {},
   "outputs": [],
   "source": []
  },
  {
   "cell_type": "code",
   "execution_count": 193,
   "id": "ee7bbe86-fd48-4b55-8632-2697b41a8ad0",
   "metadata": {},
   "outputs": [],
   "source": [
    "# define a numpy array containing the numbers 1 through 12 and reshape into 3x4 array .Calculate the standard deviation of each column."
   ]
  },
  {
   "cell_type": "code",
   "execution_count": 205,
   "id": "caac61f5-865e-415e-900e-a201b029d10a",
   "metadata": {},
   "outputs": [
    {
     "data": {
      "text/plain": [
       "array([[ 1,  2,  3,  4],\n",
       "       [ 5,  6,  7,  8],\n",
       "       [ 9, 10, 11, 12]])"
      ]
     },
     "execution_count": 205,
     "metadata": {},
     "output_type": "execute_result"
    }
   ],
   "source": [
    " arr=np.arange(1,13).reshape(3,4)\n",
    "arr"
   ]
  },
  {
   "cell_type": "code",
   "execution_count": 207,
   "id": "9a9743d2-6aff-41c5-958d-181dfe228eb2",
   "metadata": {},
   "outputs": [
    {
     "data": {
      "text/plain": [
       "array([3.26598632, 3.26598632, 3.26598632, 3.26598632])"
      ]
     },
     "execution_count": 207,
     "metadata": {},
     "output_type": "execute_result"
    }
   ],
   "source": [
    "np.std(arr,axis=0)"
   ]
  },
  {
   "cell_type": "code",
   "execution_count": null,
   "id": "1c2e4226-8b91-41ba-9acc-46c91f1a95de",
   "metadata": {},
   "outputs": [],
   "source": []
  },
  {
   "cell_type": "code",
   "execution_count": 212,
   "id": "11c2433d-0a92-4dd6-8b9b-66558b6b95da",
   "metadata": {},
   "outputs": [],
   "source": [
    "# generate a 4x4 numpy array with random integers between -50 and 50.Replace the all negative values with 0 and all positive values with 1."
   ]
  },
  {
   "cell_type": "code",
   "execution_count": 256,
   "id": "d829ec4a-d8c6-4ce1-b3af-d533ab5facc1",
   "metadata": {},
   "outputs": [],
   "source": [
    "r=random.randint(-50,50,size=(4,4))"
   ]
  },
  {
   "cell_type": "code",
   "execution_count": 258,
   "id": "bdabf152-f1a7-44b1-88e4-733692ab3813",
   "metadata": {},
   "outputs": [
    {
     "data": {
      "text/plain": [
       "array([[ 39, -10,  18,  24],\n",
       "       [-49,  -1,  33, -29],\n",
       "       [  3, -46, -47,  11],\n",
       "       [-24,  27, -14, -18]])"
      ]
     },
     "execution_count": 258,
     "metadata": {},
     "output_type": "execute_result"
    }
   ],
   "source": [
    "r"
   ]
  },
  {
   "cell_type": "code",
   "execution_count": 260,
   "id": "8b906cab-5d2c-491e-97bf-d4eeb97f2df6",
   "metadata": {},
   "outputs": [
    {
     "data": {
      "text/plain": [
       "array([ 39, -10,  18,  24, -49,  -1,  33, -29,   3, -46, -47,  11, -24,\n",
       "        27, -14, -18])"
      ]
     },
     "execution_count": 260,
     "metadata": {},
     "output_type": "execute_result"
    }
   ],
   "source": [
    "oneD=r.reshape(-1)\n",
    "oneD"
   ]
  },
  {
   "cell_type": "code",
   "execution_count": 262,
   "id": "c0a8760b-3780-45e3-82ee-541693349733",
   "metadata": {},
   "outputs": [],
   "source": [
    "zeros=np.where(oneD<0)"
   ]
  },
  {
   "cell_type": "code",
   "execution_count": 264,
   "id": "5f11214a-9009-49a1-9171-51cb5ecbe4fd",
   "metadata": {},
   "outputs": [
    {
     "data": {
      "text/plain": [
       "(array([ 1,  4,  5,  7,  9, 10, 12, 14, 15], dtype=int64),)"
      ]
     },
     "execution_count": 264,
     "metadata": {},
     "output_type": "execute_result"
    }
   ],
   "source": [
    "zeros"
   ]
  },
  {
   "cell_type": "code",
   "execution_count": 266,
   "id": "2e25dccd-8e2b-42f1-98f8-4f4c839c3e3b",
   "metadata": {},
   "outputs": [
    {
     "data": {
      "text/plain": [
       "array([39,  0, 18, 24,  0,  0, 33,  0,  3,  0,  0, 11,  0, 27,  0,  0])"
      ]
     },
     "execution_count": 266,
     "metadata": {},
     "output_type": "execute_result"
    }
   ],
   "source": [
    "oneD[zeros]=0\n",
    "oneD"
   ]
  },
  {
   "cell_type": "code",
   "execution_count": 268,
   "id": "2c1ca696-06e8-4c42-92b1-58e5c63c8480",
   "metadata": {},
   "outputs": [],
   "source": [
    "ones=np.where(oneD>0)"
   ]
  },
  {
   "cell_type": "code",
   "execution_count": 270,
   "id": "8a23f13f-d99e-442e-8ebb-5d78bffe623d",
   "metadata": {},
   "outputs": [],
   "source": [
    "oneD[ones]=1"
   ]
  },
  {
   "cell_type": "code",
   "execution_count": 272,
   "id": "6fa27056-61c3-47de-936d-ab73d49c2122",
   "metadata": {},
   "outputs": [
    {
     "data": {
      "text/plain": [
       "array([[1, 0, 1, 1],\n",
       "       [0, 0, 1, 0],\n",
       "       [1, 0, 0, 1],\n",
       "       [0, 1, 0, 0]])"
      ]
     },
     "execution_count": 272,
     "metadata": {},
     "output_type": "execute_result"
    }
   ],
   "source": [
    "r=oneD.reshape(4,4)\n",
    "r"
   ]
  },
  {
   "cell_type": "code",
   "execution_count": 274,
   "id": "afe63fa0-9e47-4d69-a537-e204e0bf5629",
   "metadata": {},
   "outputs": [],
   "source": [
    "# create a numpy array with the elements [\"apple\",\"banana\",\"cheery\",\"apple\",\"banana\"] .Remove duplicates from array  "
   ]
  },
  {
   "cell_type": "code",
   "execution_count": 276,
   "id": "b04595e0-810f-40da-8c40-3a96ac45b029",
   "metadata": {},
   "outputs": [],
   "source": [
    "arr=np.array([\"apple\",\"banana\",\"cheery\",\"apple\",\"banana\"])"
   ]
  },
  {
   "cell_type": "code",
   "execution_count": 278,
   "id": "c29cfae3-26b7-4bc5-a8f3-2d31a5e24715",
   "metadata": {},
   "outputs": [
    {
     "data": {
      "text/plain": [
       "array(['apple', 'banana', 'cheery', 'apple', 'banana'], dtype='<U6')"
      ]
     },
     "execution_count": 278,
     "metadata": {},
     "output_type": "execute_result"
    }
   ],
   "source": [
    "arr"
   ]
  },
  {
   "cell_type": "code",
   "execution_count": 280,
   "id": "a3f82d51-c6eb-4c29-87e2-60d270e9891f",
   "metadata": {},
   "outputs": [
    {
     "data": {
      "text/plain": [
       "array(['apple', 'banana', 'cheery'], dtype='<U6')"
      ]
     },
     "execution_count": 280,
     "metadata": {},
     "output_type": "execute_result"
    }
   ],
   "source": [
    "np.unique(arr)"
   ]
  },
  {
   "cell_type": "code",
   "execution_count": 282,
   "id": "59a71753-2fa8-4d7b-bede-aa650ff77bad",
   "metadata": {},
   "outputs": [],
   "source": [
    "# define a numpy array containing the numbers 1 through 16 and reshape it into 4x4 array. extract elements in the last column."
   ]
  },
  {
   "cell_type": "code",
   "execution_count": 308,
   "id": "8a1e8341-513c-4fc4-82e6-a43b7dd961c3",
   "metadata": {},
   "outputs": [
    {
     "data": {
      "text/plain": [
       "array([[ 1,  2,  3,  4],\n",
       "       [ 5,  6,  7,  8],\n",
       "       [ 9, 10, 11, 12],\n",
       "       [13, 14, 15, 16]])"
      ]
     },
     "execution_count": 308,
     "metadata": {},
     "output_type": "execute_result"
    }
   ],
   "source": [
    "arr=np.arange(1,17).reshape(4,4)\n",
    "arr"
   ]
  },
  {
   "cell_type": "code",
   "execution_count": 326,
   "id": "1e8701ec-d557-4c32-b9a0-9bd719070831",
   "metadata": {},
   "outputs": [
    {
     "name": "stdout",
     "output_type": "stream",
     "text": [
      "4\n",
      "8\n",
      "12\n",
      "16\n"
     ]
    }
   ],
   "source": [
    "for i in range(4):\n",
    "    print(arr[i][3])"
   ]
  },
  {
   "cell_type": "code",
   "execution_count": null,
   "id": "0219db4f-cd24-42d5-903b-b15734bec62d",
   "metadata": {},
   "outputs": [],
   "source": []
  },
  {
   "cell_type": "code",
   "execution_count": 329,
   "id": "b9f067c0-2761-41c8-a291-5985399a9097",
   "metadata": {},
   "outputs": [],
   "source": [
    "# generate a 5x5 numpy array with random floating point number between 0 and 1. round each element with nearest integer."
   ]
  },
  {
   "cell_type": "code",
   "execution_count": 400,
   "id": "99cc03a8-d961-44aa-97b6-9d763f7d876c",
   "metadata": {},
   "outputs": [],
   "source": [
    "arr=random.random(size=(5,5))"
   ]
  },
  {
   "cell_type": "code",
   "execution_count": 402,
   "id": "6f4e862d-8177-43d7-a847-a8bac9bc8c15",
   "metadata": {},
   "outputs": [
    {
     "data": {
      "text/plain": [
       "array([[0.62790755, 0.58039068, 0.27267597, 0.6326757 , 0.96314951],\n",
       "       [0.77458724, 0.50670419, 0.38538956, 0.55023059, 0.37738865],\n",
       "       [0.54199451, 0.14902939, 0.05217771, 0.62055514, 0.4555666 ],\n",
       "       [0.76665117, 0.99770631, 0.69484876, 0.47889578, 0.43437414],\n",
       "       [0.64291941, 0.04637366, 0.79658867, 0.01557905, 0.65130905]])"
      ]
     },
     "execution_count": 402,
     "metadata": {},
     "output_type": "execute_result"
    }
   ],
   "source": [
    "arr"
   ]
  },
  {
   "cell_type": "code",
   "execution_count": 404,
   "id": "ebb8970e-f7e4-42e1-8260-8e658a55262f",
   "metadata": {},
   "outputs": [
    {
     "data": {
      "text/plain": [
       "array([[1., 1., 0., 1., 1.],\n",
       "       [1., 1., 0., 1., 0.],\n",
       "       [1., 0., 0., 1., 0.],\n",
       "       [1., 1., 1., 0., 0.],\n",
       "       [1., 0., 1., 0., 1.]])"
      ]
     },
     "execution_count": 404,
     "metadata": {},
     "output_type": "execute_result"
    }
   ],
   "source": [
    "np.round(arr)"
   ]
  },
  {
   "cell_type": "code",
   "execution_count": 406,
   "id": "dfbcbcec-1a0d-42e9-96b0-6f1f0ecf54e3",
   "metadata": {},
   "outputs": [],
   "source": [
    "# create a numpy array with element [\"red\",\"green\",\"blue\",\"red\",\"green\",\"blue\"]. replace \"red\" with \"orange\"."
   ]
  },
  {
   "cell_type": "code",
   "execution_count": 432,
   "id": "202f9edd-d32d-4360-ac1e-1fffc30bc227",
   "metadata": {},
   "outputs": [],
   "source": [
    "arr=np.array([\"red\",\"green\",\"blue\",\"red\",\"green\",\"blue\"])"
   ]
  },
  {
   "cell_type": "code",
   "execution_count": 434,
   "id": "252544aa-11cb-48bd-917f-6fadc12afc80",
   "metadata": {},
   "outputs": [],
   "source": [
    "y=np.size(arr)"
   ]
  },
  {
   "cell_type": "code",
   "execution_count": 436,
   "id": "a62ef0da-1c91-4591-8056-5b126be8742c",
   "metadata": {},
   "outputs": [],
   "source": [
    "for i in range(np.size(arr)):\n",
    "    if arr[i] == \"red\":\n",
    "        arr[i]=\"orange\"\n",
    "        "
   ]
  },
  {
   "cell_type": "code",
   "execution_count": 438,
   "id": "231fa33e-25d5-42a3-9635-89be7dff21f9",
   "metadata": {},
   "outputs": [
    {
     "data": {
      "text/plain": [
       "array(['orang', 'green', 'blue', 'orang', 'green', 'blue'], dtype='<U5')"
      ]
     },
     "execution_count": 438,
     "metadata": {},
     "output_type": "execute_result"
    }
   ],
   "source": [
    "arr"
   ]
  },
  {
   "cell_type": "code",
   "execution_count": null,
   "id": "e292c526-c39a-4de2-a928-c71a047fb9ae",
   "metadata": {},
   "outputs": [],
   "source": []
  },
  {
   "cell_type": "code",
   "execution_count": 441,
   "id": "74ba020a-3cab-4d86-a0d3-7c2e22129bd3",
   "metadata": {},
   "outputs": [],
   "source": [
    "# define a numpy aarray number 1 through 20 and reshape it into 5x4 array. compute the sum of each column."
   ]
  },
  {
   "cell_type": "code",
   "execution_count": 443,
   "id": "d9f3101f-0ee5-4c8c-b456-8a7b6704a272",
   "metadata": {},
   "outputs": [],
   "source": [
    "arr=np.arange(1,21).reshape(5,4)"
   ]
  },
  {
   "cell_type": "code",
   "execution_count": 445,
   "id": "dabdd40d-82bf-4e93-a411-a14017e2c44a",
   "metadata": {},
   "outputs": [
    {
     "data": {
      "text/plain": [
       "array([[ 1,  2,  3,  4],\n",
       "       [ 5,  6,  7,  8],\n",
       "       [ 9, 10, 11, 12],\n",
       "       [13, 14, 15, 16],\n",
       "       [17, 18, 19, 20]])"
      ]
     },
     "execution_count": 445,
     "metadata": {},
     "output_type": "execute_result"
    }
   ],
   "source": [
    "arr"
   ]
  },
  {
   "cell_type": "code",
   "execution_count": 447,
   "id": "23e03f95-a520-424c-9118-e7a4500ab62b",
   "metadata": {},
   "outputs": [
    {
     "data": {
      "text/plain": [
       "array([45, 50, 55, 60])"
      ]
     },
     "execution_count": 447,
     "metadata": {},
     "output_type": "execute_result"
    }
   ],
   "source": [
    "np.sum(arr,axis=0)"
   ]
  },
  {
   "cell_type": "code",
   "execution_count": null,
   "id": "73098118-b940-42a2-9d59-787c16a1023d",
   "metadata": {},
   "outputs": [],
   "source": []
  },
  {
   "cell_type": "code",
   "execution_count": 450,
   "id": "60058055-f2a8-4405-9cdd-0182e1b5afa9",
   "metadata": {},
   "outputs": [],
   "source": [
    "# generate a 3x3 numpy array with random integers between 1 and 100 . find the index of max value in array."
   ]
  },
  {
   "cell_type": "code",
   "execution_count": 452,
   "id": "30438683-e4f6-4a7f-98bb-e5d3dee8ef47",
   "metadata": {},
   "outputs": [],
   "source": [
    "arr=random.randint(1,100,size=(3,3))"
   ]
  },
  {
   "cell_type": "code",
   "execution_count": 454,
   "id": "4be5d202-0e88-4125-aab7-1122b0696e6e",
   "metadata": {},
   "outputs": [
    {
     "data": {
      "text/plain": [
       "array([[ 3, 84,  8],\n",
       "       [49, 87, 26],\n",
       "       [58, 70, 17]])"
      ]
     },
     "execution_count": 454,
     "metadata": {},
     "output_type": "execute_result"
    }
   ],
   "source": [
    "arr"
   ]
  },
  {
   "cell_type": "code",
   "execution_count": 458,
   "id": "1afc8fa2-d8a4-415f-9cca-5014991fad3a",
   "metadata": {},
   "outputs": [
    {
     "data": {
      "text/plain": [
       "87"
      ]
     },
     "execution_count": 458,
     "metadata": {},
     "output_type": "execute_result"
    }
   ],
   "source": [
    "np.amax(arr)"
   ]
  },
  {
   "cell_type": "code",
   "execution_count": 460,
   "id": "c5f48183-f28a-492b-8eec-5661a7f4213d",
   "metadata": {},
   "outputs": [
    {
     "data": {
      "text/plain": [
       "(array([1], dtype=int64), array([1], dtype=int64))"
      ]
     },
     "execution_count": 460,
     "metadata": {},
     "output_type": "execute_result"
    }
   ],
   "source": [
    "np.where(arr==np.amax(arr))"
   ]
  },
  {
   "cell_type": "code",
   "execution_count": 462,
   "id": "e5eaed18-ccc8-4074-910e-d10d3b68ce68",
   "metadata": {},
   "outputs": [
    {
     "name": "stdout",
     "output_type": "stream",
     "text": [
      "Help on _ArrayFunctionDispatcher in module numpy:\n",
      "\n",
      "amax(a, axis=None, out=None, keepdims=<no value>, initial=<no value>, where=<no value>)\n",
      "    Return the maximum of an array or maximum along an axis.\n",
      "    \n",
      "    `amax` is an alias of `~numpy.max`.\n",
      "    \n",
      "    See Also\n",
      "    --------\n",
      "    max : alias of this function\n",
      "    ndarray.max : equivalent method\n",
      "\n"
     ]
    }
   ],
   "source": [
    "help(np.amax)"
   ]
  },
  {
   "cell_type": "code",
   "execution_count": 464,
   "id": "515480da-ae1e-41d4-9342-31e42073e48f",
   "metadata": {},
   "outputs": [],
   "source": [
    "# generate 100 element in 2D array, 10 rows 5 column then in that nd array the elements which are divisible by 2 put 0\n",
    "# and the elements which are not divisible by 2 put 1, divisible by 2 and 3 both put 2."
   ]
  },
  {
   "cell_type": "code",
   "execution_count": 466,
   "id": "ffa03539-79e4-4303-b4ed-c114557992ae",
   "metadata": {},
   "outputs": [],
   "source": [
    "arr=random.randint(1,100,size=(10,5))"
   ]
  },
  {
   "cell_type": "code",
   "execution_count": 468,
   "id": "64950c7a-e708-43c8-b977-43a3de0782a6",
   "metadata": {},
   "outputs": [
    {
     "data": {
      "text/plain": [
       "array([[43, 71, 48, 82, 80],\n",
       "       [12, 24, 22, 37, 83],\n",
       "       [22, 50, 70, 39, 88],\n",
       "       [33,  4, 81, 10,  3],\n",
       "       [78, 51, 96, 20, 52],\n",
       "       [ 3, 93, 31, 64, 15],\n",
       "       [24, 69, 89, 50,  1],\n",
       "       [53, 20, 23, 45, 67],\n",
       "       [86, 20, 16,  7, 82],\n",
       "       [85, 17, 41, 63, 89]])"
      ]
     },
     "execution_count": 468,
     "metadata": {},
     "output_type": "execute_result"
    }
   ],
   "source": [
    "arr"
   ]
  },
  {
   "cell_type": "code",
   "execution_count": 494,
   "id": "e9c96ff7-48a0-4fdd-a171-5a8379d915b6",
   "metadata": {},
   "outputs": [],
   "source": [
    "six=np.where(arr%6==0)"
   ]
  },
  {
   "cell_type": "code",
   "execution_count": 496,
   "id": "3e3499c0-b711-41ff-9dbb-633cd0b538e3",
   "metadata": {},
   "outputs": [],
   "source": [
    "two=np.where(arr%2==0)\n"
   ]
  },
  {
   "cell_type": "code",
   "execution_count": 498,
   "id": "bd8845eb-8e52-46d1-b3ec-eebcff8fcf8a",
   "metadata": {},
   "outputs": [],
   "source": [
    "one=np.where(arr%2!=0)"
   ]
  },
  {
   "cell_type": "code",
   "execution_count": null,
   "id": "cf33b9ff-f824-4d1a-8c5a-39b6cbe20a1a",
   "metadata": {},
   "outputs": [],
   "source": [
    "---->pending^"
   ]
  }
 ],
 "metadata": {
  "kernelspec": {
   "display_name": "Python 3 (ipykernel)",
   "language": "python",
   "name": "python3"
  },
  "language_info": {
   "codemirror_mode": {
    "name": "ipython",
    "version": 3
   },
   "file_extension": ".py",
   "mimetype": "text/x-python",
   "name": "python",
   "nbconvert_exporter": "python",
   "pygments_lexer": "ipython3",
   "version": "3.11.7"
  }
 },
 "nbformat": 4,
 "nbformat_minor": 5
}
